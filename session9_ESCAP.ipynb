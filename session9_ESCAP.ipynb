{
 "cells": [
  {
   "cell_type": "code",
   "execution_count": 22,
   "metadata": {},
   "outputs": [
    {
     "name": "stdout",
     "output_type": "stream",
     "text": [
      "Note: you may need to restart the kernel to use updated packages.\n"
     ]
    },
    {
     "name": "stderr",
     "output_type": "stream",
     "text": [
      "\n",
      "[notice] A new release of pip is available: 24.0 -> 24.2\n",
      "[notice] To update, run: python.exe -m pip install --upgrade pip\n"
     ]
    },
    {
     "name": "stdout",
     "output_type": "stream",
     "text": [
      "Requirement already satisfied: requests in c:\\users\\cbontemps\\appdata\\local\\programs\\python\\python311\\lib\\site-packages (2.31.0)\n",
      "Requirement already satisfied: beautifulsoup4 in c:\\users\\cbontemps\\appdata\\local\\programs\\python\\python311\\lib\\site-packages (4.12.3)\n",
      "Requirement already satisfied: pandas in c:\\users\\cbontemps\\appdata\\local\\programs\\python\\python311\\lib\\site-packages (2.2.1)\n",
      "Requirement already satisfied: charset-normalizer<4,>=2 in c:\\users\\cbontemps\\appdata\\local\\programs\\python\\python311\\lib\\site-packages (from requests) (3.3.2)\n",
      "Requirement already satisfied: idna<4,>=2.5 in c:\\users\\cbontemps\\appdata\\local\\programs\\python\\python311\\lib\\site-packages (from requests) (3.6)\n",
      "Requirement already satisfied: urllib3<3,>=1.21.1 in c:\\users\\cbontemps\\appdata\\local\\programs\\python\\python311\\lib\\site-packages (from requests) (2.2.1)\n",
      "Requirement already satisfied: certifi>=2017.4.17 in c:\\users\\cbontemps\\appdata\\local\\programs\\python\\python311\\lib\\site-packages (from requests) (2024.2.2)\n",
      "Requirement already satisfied: soupsieve>1.2 in c:\\users\\cbontemps\\appdata\\local\\programs\\python\\python311\\lib\\site-packages (from beautifulsoup4) (2.5)\n",
      "Requirement already satisfied: numpy<2,>=1.23.2 in c:\\users\\cbontemps\\appdata\\local\\programs\\python\\python311\\lib\\site-packages (from pandas) (1.26.4)\n",
      "Requirement already satisfied: python-dateutil>=2.8.2 in c:\\users\\cbontemps\\appdata\\local\\programs\\python\\python311\\lib\\site-packages (from pandas) (2.9.0.post0)\n",
      "Requirement already satisfied: pytz>=2020.1 in c:\\users\\cbontemps\\appdata\\local\\programs\\python\\python311\\lib\\site-packages (from pandas) (2024.1)\n",
      "Requirement already satisfied: tzdata>=2022.7 in c:\\users\\cbontemps\\appdata\\local\\programs\\python\\python311\\lib\\site-packages (from pandas) (2024.1)\n",
      "Requirement already satisfied: six>=1.5 in c:\\users\\cbontemps\\appdata\\local\\programs\\python\\python311\\lib\\site-packages (from python-dateutil>=2.8.2->pandas) (1.16.0)\n"
     ]
    }
   ],
   "source": [
    "pip install requests beautifulsoup4 pandas"
   ]
  },
  {
   "cell_type": "code",
   "execution_count": 23,
   "metadata": {},
   "outputs": [
    {
     "name": "stdout",
     "output_type": "stream",
     "text": [
      "Data has been written to ESCAP-events.csv\n"
     ]
    }
   ],
   "source": [
    "import requests # The requests package provides a user-friendly interface for sending HTTP requests\n",
    "from bs4 import BeautifulSoup # This imports the BeautifulSoup class from the bs4 module provided by the installed package beautifulsoup4\n",
    "#The BeautifulSoup class creates a parse tree for parsed pages that can be used to extract data from HTML\n",
    "import pandas as pd # The pandas package provides data structures and functions needed to efficiently manipulate large datasets\n",
    "\n",
    "# Define the URL of the ESCAP website\n",
    "url = \"https://unescap.org/events\"\n",
    "\n",
    "# Send a GET request to the URL\n",
    "response = requests.get(url)\n",
    "\n",
    "# Check if the request was successful\n",
    "if response.status_code == 200:\n",
    "    # Parse the HTML content using BeautifulSoup\n",
    "    soup = BeautifulSoup(response.content, \"html.parser\")\n",
    "    \n",
    "    # Find the product listings (see on the html page \"inspect\")\n",
    "    events = soup.find_all(\"div\", class_=\"card-body\")\n",
    "    \n",
    "    # Create empty lists to store the data\n",
    "    event_names= []\n",
    "    event_places = []\n",
    "    \n",
    "    # Loop through the event listings and extract the data\n",
    "    for event in events:\n",
    "        name_tag = event.find(\"h5\", class_=\"card-title\")   # Find the h5 tag first with class = \"card-title\" \n",
    "        #  Be careful there is a  _ after class, because class is a python reverved word \n",
    "        place_tag = event.find(\"p\", class_=\"sub-text location-icon\")  # Find the price tag , here it is \"price_color\" \n",
    "\n",
    "        \n",
    "        if name_tag:\n",
    "            name = name_tag.text.strip()  # gets the text content of the element (which in this case can be cut off with '...')\n",
    "            # name = name_tag['title'].strip()  # Alternative approach - use the title attribute to get the FULL title from the href\n",
    "        else:\n",
    "            name = \"N/A\"\n",
    "        \n",
    "        if place_tag:\n",
    "            place = place_tag.text.strip()\n",
    "        else:\n",
    "            place = \"N/A\"\n",
    "        \n",
    "        event_names.append(name)\n",
    "        event_places.append(place)\n",
    "    \n",
    "    # Create a DataFrame from the lists using panda (pd))\n",
    "    df = pd.DataFrame({\n",
    "        \"Event Name\": event_names,\n",
    "        \"Event Place\": event_places\n",
    "    })\n",
    "    \n",
    "    # Save the DataFrame to a CSV file\n",
    "    df.to_csv(\"Outputs/ESCAP-events.csv\", index=False, sep=\",\"  )\n",
    "    \n",
    "    print(\"Data has been written to ESCAP-events.csv\")\n",
    "else:\n",
    "    print(\"Failed to retrieve the webpage.\")\n"
   ]
  }
 ],
 "metadata": {
  "kernelspec": {
   "display_name": "Python 3",
   "language": "python",
   "name": "python3"
  },
  "language_info": {
   "codemirror_mode": {
    "name": "ipython",
    "version": 3
   },
   "file_extension": ".py",
   "mimetype": "text/x-python",
   "name": "python",
   "nbconvert_exporter": "python",
   "pygments_lexer": "ipython3",
   "version": "3.11.9"
  }
 },
 "nbformat": 4,
 "nbformat_minor": 2
}
