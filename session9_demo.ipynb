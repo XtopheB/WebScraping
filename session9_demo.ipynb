{
 "cells": [
  {
   "cell_type": "code",
   "execution_count": 4,
   "metadata": {},
   "outputs": [
    {
     "name": "stdout",
     "output_type": "stream",
     "text": [
      "Requirement already satisfied: requests in c:\\users\\cbontemps\\appdata\\local\\programs\\python\\python311\\lib\\site-packages (2.31.0)\n",
      "Requirement already satisfied: beautifulsoup4 in c:\\users\\cbontemps\\appdata\\local\\programs\\python\\python311\\lib\\site-packages (4.12.3)\n",
      "Requirement already satisfied: pandas in c:\\users\\cbontemps\\appdata\\local\\programs\\python\\python311\\lib\\site-packages (2.2.1)\n",
      "Requirement already satisfied: charset-normalizer<4,>=2 in c:\\users\\cbontemps\\appdata\\local\\programs\\python\\python311\\lib\\site-packages (from requests) (3.3.2)\n",
      "Requirement already satisfied: idna<4,>=2.5 in c:\\users\\cbontemps\\appdata\\local\\programs\\python\\python311\\lib\\site-packages (from requests) (3.6)\n",
      "Requirement already satisfied: urllib3<3,>=1.21.1 in c:\\users\\cbontemps\\appdata\\local\\programs\\python\\python311\\lib\\site-packages (from requests) (2.2.1)\n",
      "Requirement already satisfied: certifi>=2017.4.17 in c:\\users\\cbontemps\\appdata\\local\\programs\\python\\python311\\lib\\site-packages (from requests) (2024.2.2)\n",
      "Requirement already satisfied: soupsieve>1.2 in c:\\users\\cbontemps\\appdata\\local\\programs\\python\\python311\\lib\\site-packages (from beautifulsoup4) (2.5)\n",
      "Requirement already satisfied: numpy<2,>=1.23.2 in c:\\users\\cbontemps\\appdata\\local\\programs\\python\\python311\\lib\\site-packages (from pandas) (1.26.4)\n",
      "Requirement already satisfied: python-dateutil>=2.8.2 in c:\\users\\cbontemps\\appdata\\local\\programs\\python\\python311\\lib\\site-packages (from pandas) (2.9.0.post0)\n",
      "Requirement already satisfied: pytz>=2020.1 in c:\\users\\cbontemps\\appdata\\local\\programs\\python\\python311\\lib\\site-packages (from pandas) (2024.1)\n",
      "Requirement already satisfied: tzdata>=2022.7 in c:\\users\\cbontemps\\appdata\\local\\programs\\python\\python311\\lib\\site-packages (from pandas) (2024.1)\n",
      "Requirement already satisfied: six>=1.5 in c:\\users\\cbontemps\\appdata\\local\\programs\\python\\python311\\lib\\site-packages (from python-dateutil>=2.8.2->pandas) (1.16.0)\n",
      "Note: you may need to restart the kernel to use updated packages.\n"
     ]
    },
    {
     "name": "stderr",
     "output_type": "stream",
     "text": [
      "\n",
      "[notice] A new release of pip is available: 24.0 -> 24.2\n",
      "[notice] To update, run: python.exe -m pip install --upgrade pip\n"
     ]
    }
   ],
   "source": [
    "pip install requests beautifulsoup4 pandas"
   ]
  },
  {
   "cell_type": "code",
   "execution_count": 5,
   "metadata": {},
   "outputs": [
    {
     "name": "stdout",
     "output_type": "stream",
     "text": [
      "Data has been written to books_toscrape_products.csv\n"
     ]
    }
   ],
   "source": [
    "import requests # The requests package provides a user-friendly interface for sending HTTP requests\n",
    "from bs4 import BeautifulSoup # This imports the BeautifulSoup class from the bs4 module provided by the installed package beautifulsoup4\n",
    "#The BeautifulSoup class creates a parse tree for parsed pages that can be used to extract data from HTML\n",
    "import pandas as pd # The pandas package provides data structures and functions needed to efficiently manipulate large datasets\n",
    "\n",
    "# Define the URL of the website\n",
    "url = \"https://books.toscrape.com/\"\n",
    "\n",
    "# Send a GET request to the URL\n",
    "response = requests.get(url)\n",
    "\n",
    "# Check if the request was successful\n",
    "if response.status_code == 200:\n",
    "    # Parse the HTML content using BeautifulSoup\n",
    "    soup = BeautifulSoup(response.content, \"html.parser\")\n",
    "    \n",
    "    # Find the product listings (see on the html page \"inspect\")\n",
    "    products = soup.find_all(\"article\", class_=\"product_pod\")\n",
    "    \n",
    "    # Create empty lists to store the data\n",
    "    product_titles = []\n",
    "    product_prices = []\n",
    "    \n",
    "    # Loop through the product listings and extract the data\n",
    "    for product in products:\n",
    "        title_tag = product.find(\"h3\").find(\"a\")  # Find the h3 tag first, then the anchor tag\n",
    "        #  Be careful there is a  _ after class, because class is a python reverved word \n",
    "        price_tag = product.find(\"p\", class_=\"price_color\")  # Find the price tag , here it is \"price_color\" \n",
    "\n",
    "        \n",
    "        if title_tag:\n",
    "            # title = title_tag.text.strip()  # gets the text content of the element (which in this case can be cut off with '...')\n",
    "            title = title_tag['title'].strip()  # Alternative approach - use the title attribute to get the FULL title from the href\n",
    "        else:\n",
    "            title = \"N/A\"\n",
    "        \n",
    "        if price_tag:\n",
    "            price = price_tag.text.strip()\n",
    "        else:\n",
    "            price = \"N/A\"\n",
    "        \n",
    "        product_titles.append(title)\n",
    "        product_prices.append(price)\n",
    "    \n",
    "    # Create a DataFrame from the lists using panda (pd))\n",
    "    df = pd.DataFrame({\n",
    "        \"Product Name\": product_titles,\n",
    "        \"Product Price\": product_prices\n",
    "    })\n",
    "    \n",
    "    # Save the DataFrame to a CSV file\n",
    "    df.to_csv(\"Outputs/books_toscrape_products.csv\", index=False, sep=\",\"  )\n",
    "    \n",
    "    print(\"Data has been written to books_toscrape_products.csv\")\n",
    "else:\n",
    "    print(\"Failed to retrieve the webpage.\")\n"
   ]
  }
 ],
 "metadata": {
  "kernelspec": {
   "display_name": "Python 3",
   "language": "python",
   "name": "python3"
  },
  "language_info": {
   "codemirror_mode": {
    "name": "ipython",
    "version": 3
   },
   "file_extension": ".py",
   "mimetype": "text/x-python",
   "name": "python",
   "nbconvert_exporter": "python",
   "pygments_lexer": "ipython3",
   "version": "3.11.9"
  }
 },
 "nbformat": 4,
 "nbformat_minor": 2
}
