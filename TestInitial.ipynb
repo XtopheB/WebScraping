{
 "cells": [
  {
   "cell_type": "markdown",
   "metadata": {},
   "source": [
    "# This is a test of the instalation!\n",
    "*3 June 2024*"
   ]
  },
  {
   "cell_type": "code",
   "execution_count": null,
   "metadata": {},
   "outputs": [
    {
     "name": "stdout",
     "output_type": "stream",
     "text": [
      "Hello world\n"
     ]
    }
   ],
   "source": [
    "print(\"Hello world\")"
   ]
  },
  {
   "cell_type": "code",
   "execution_count": null,
   "metadata": {},
   "outputs": [
    {
     "name": "stdout",
     "output_type": "stream",
     "text": [
      "Requirement already satisfied: numpy in c:\\users\\cbontemps\\appdata\\local\\programs\\python\\python311\\lib\\site-packages (1.26.4)\n"
     ]
    }
   ],
   "source": [
    "!pip install numpy"
   ]
  },
  {
   "cell_type": "markdown",
   "metadata": {},
   "source": [
    "###  Installing needed libraries \n",
    "requests and beutifulsoup\n",
    "We can also search for links on the main reporistory https://pypi.org/project/beautifulsoup4/\n"
   ]
  },
  {
   "cell_type": "code",
   "execution_count": null,
   "metadata": {},
   "outputs": [
    {
     "name": "stdout",
     "output_type": "stream",
     "text": [
      "Requirement already satisfied: requests in c:\\users\\cbontemps\\appdata\\local\\programs\\python\\python311\\lib\\site-packages (2.31.0)\n",
      "Requirement already satisfied: charset-normalizer<4,>=2 in c:\\users\\cbontemps\\appdata\\local\\programs\\python\\python311\\lib\\site-packages (from requests) (3.3.2)\n",
      "Requirement already satisfied: idna<4,>=2.5 in c:\\users\\cbontemps\\appdata\\local\\programs\\python\\python311\\lib\\site-packages (from requests) (3.6)\n",
      "Requirement already satisfied: urllib3<3,>=1.21.1 in c:\\users\\cbontemps\\appdata\\local\\programs\\python\\python311\\lib\\site-packages (from requests) (2.2.1)\n",
      "Requirement already satisfied: certifi>=2017.4.17 in c:\\users\\cbontemps\\appdata\\local\\programs\\python\\python311\\lib\\site-packages (from requests) (2024.2.2)\n"
     ]
    }
   ],
   "source": [
    "!pip install requests"
   ]
  },
  {
   "cell_type": "code",
   "execution_count": null,
   "metadata": {},
   "outputs": [
    {
     "name": "stdout",
     "output_type": "stream",
     "text": [
      "Requirement already satisfied: Beautifulsoup4 in c:\\users\\cbontemps\\appdata\\local\\programs\\python\\python311\\lib\\site-packages (4.12.3)\n",
      "Requirement already satisfied: soupsieve>1.2 in c:\\users\\cbontemps\\appdata\\local\\programs\\python\\python311\\lib\\site-packages (from Beautifulsoup4) (2.5)\n"
     ]
    }
   ],
   "source": [
    "!pip install Beautifulsoup4"
   ]
  },
  {
   "cell_type": "code",
   "execution_count": 21,
   "metadata": {},
   "outputs": [
    {
     "name": "stdout",
     "output_type": "stream",
     "text": [
      "Collecting selenium\n",
      "  Downloading selenium-4.21.0-py3-none-any.whl.metadata (6.9 kB)\n",
      "Requirement already satisfied: urllib3<3,>=1.26 in c:\\users\\cbontemps\\appdata\\local\\programs\\python\\python311\\lib\\site-packages (from urllib3[socks]<3,>=1.26->selenium) (2.2.1)\n",
      "Collecting trio~=0.17 (from selenium)\n",
      "  Downloading trio-0.25.1-py3-none-any.whl.metadata (8.7 kB)\n",
      "Collecting trio-websocket~=0.9 (from selenium)\n",
      "  Downloading trio_websocket-0.11.1-py3-none-any.whl.metadata (4.7 kB)\n",
      "Requirement already satisfied: certifi>=2021.10.8 in c:\\users\\cbontemps\\appdata\\local\\programs\\python\\python311\\lib\\site-packages (from selenium) (2024.2.2)\n",
      "Requirement already satisfied: typing_extensions>=4.9.0 in c:\\users\\cbontemps\\appdata\\local\\programs\\python\\python311\\lib\\site-packages (from selenium) (4.10.0)\n",
      "Requirement already satisfied: attrs>=23.2.0 in c:\\users\\cbontemps\\appdata\\local\\programs\\python\\python311\\lib\\site-packages (from trio~=0.17->selenium) (23.2.0)\n",
      "Requirement already satisfied: sortedcontainers in c:\\users\\cbontemps\\appdata\\local\\programs\\python\\python311\\lib\\site-packages (from trio~=0.17->selenium) (2.4.0)\n",
      "Requirement already satisfied: idna in c:\\users\\cbontemps\\appdata\\local\\programs\\python\\python311\\lib\\site-packages (from trio~=0.17->selenium) (3.6)\n",
      "Collecting outcome (from trio~=0.17->selenium)\n",
      "  Downloading outcome-1.3.0.post0-py2.py3-none-any.whl.metadata (2.6 kB)\n",
      "Requirement already satisfied: sniffio>=1.3.0 in c:\\users\\cbontemps\\appdata\\local\\programs\\python\\python311\\lib\\site-packages (from trio~=0.17->selenium) (1.3.1)\n",
      "Requirement already satisfied: cffi>=1.14 in c:\\users\\cbontemps\\appdata\\local\\programs\\python\\python311\\lib\\site-packages (from trio~=0.17->selenium) (1.16.0)\n",
      "Collecting wsproto>=0.14 (from trio-websocket~=0.9->selenium)\n",
      "  Downloading wsproto-1.2.0-py3-none-any.whl.metadata (5.6 kB)\n",
      "Collecting pysocks!=1.5.7,<2.0,>=1.5.6 (from urllib3[socks]<3,>=1.26->selenium)\n",
      "  Downloading PySocks-1.7.1-py3-none-any.whl.metadata (13 kB)\n",
      "Requirement already satisfied: pycparser in c:\\users\\cbontemps\\appdata\\local\\programs\\python\\python311\\lib\\site-packages (from cffi>=1.14->trio~=0.17->selenium) (2.22)\n",
      "Requirement already satisfied: h11<1,>=0.9.0 in c:\\users\\cbontemps\\appdata\\local\\programs\\python\\python311\\lib\\site-packages (from wsproto>=0.14->trio-websocket~=0.9->selenium) (0.14.0)\n",
      "Downloading selenium-4.21.0-py3-none-any.whl (9.5 MB)\n",
      "   ---------------------------------------- 0.0/9.5 MB ? eta -:--:--\n",
      "    --------------------------------------- 0.2/9.5 MB 7.3 MB/s eta 0:00:02\n",
      "   -- ------------------------------------- 0.5/9.5 MB 6.6 MB/s eta 0:00:02\n",
      "   --- ------------------------------------ 0.8/9.5 MB 6.7 MB/s eta 0:00:02\n",
      "   ----- ---------------------------------- 1.3/9.5 MB 7.5 MB/s eta 0:00:02\n",
      "   ------- -------------------------------- 1.8/9.5 MB 8.3 MB/s eta 0:00:01\n",
      "   --------- ------------------------------ 2.2/9.5 MB 8.2 MB/s eta 0:00:01\n",
      "   ----------- ---------------------------- 2.7/9.5 MB 8.5 MB/s eta 0:00:01\n",
      "   ------------ --------------------------- 3.1/9.5 MB 8.5 MB/s eta 0:00:01\n",
      "   -------------- ------------------------- 3.5/9.5 MB 8.5 MB/s eta 0:00:01\n",
      "   ---------------- ----------------------- 4.0/9.5 MB 8.7 MB/s eta 0:00:01\n",
      "   ----------------- ---------------------- 4.2/9.5 MB 8.7 MB/s eta 0:00:01\n",
      "   ------------------- -------------------- 4.6/9.5 MB 8.3 MB/s eta 0:00:01\n",
      "   -------------------- ------------------- 5.0/9.5 MB 8.3 MB/s eta 0:00:01\n",
      "   ----------------------- ---------------- 5.4/9.5 MB 8.5 MB/s eta 0:00:01\n",
      "   ------------------------- -------------- 5.9/9.5 MB 8.6 MB/s eta 0:00:01\n",
      "   --------------------------- ------------ 6.4/9.5 MB 8.7 MB/s eta 0:00:01\n",
      "   ---------------------------- ----------- 6.8/9.5 MB 8.7 MB/s eta 0:00:01\n",
      "   ------------------------------- -------- 7.4/9.5 MB 8.9 MB/s eta 0:00:01\n",
      "   --------------------------------- ------ 7.8/9.5 MB 8.9 MB/s eta 0:00:01\n",
      "   ---------------------------------- ----- 8.2/9.5 MB 9.1 MB/s eta 0:00:01\n",
      "   ------------------------------------ --- 8.7/9.5 MB 9.2 MB/s eta 0:00:01\n",
      "   ---------------------------------------  9.2/9.5 MB 9.2 MB/s eta 0:00:01\n",
      "   ---------------------------------------  9.5/9.5 MB 9.2 MB/s eta 0:00:01\n",
      "   ---------------------------------------- 9.5/9.5 MB 8.9 MB/s eta 0:00:00\n",
      "Downloading trio-0.25.1-py3-none-any.whl (467 kB)\n",
      "   ---------------------------------------- 0.0/467.7 kB ? eta -:--:--\n",
      "   --------------------------------------  460.8/467.7 kB 14.5 MB/s eta 0:00:01\n",
      "   ---------------------------------------- 467.7/467.7 kB 9.7 MB/s eta 0:00:00\n",
      "Downloading trio_websocket-0.11.1-py3-none-any.whl (17 kB)\n",
      "Downloading PySocks-1.7.1-py3-none-any.whl (16 kB)\n",
      "Downloading wsproto-1.2.0-py3-none-any.whl (24 kB)\n",
      "Downloading outcome-1.3.0.post0-py2.py3-none-any.whl (10 kB)\n",
      "Installing collected packages: wsproto, pysocks, outcome, trio, trio-websocket, selenium\n",
      "Successfully installed outcome-1.3.0.post0 pysocks-1.7.1 selenium-4.21.0 trio-0.25.1 trio-websocket-0.11.1 wsproto-1.2.0\n"
     ]
    }
   ],
   "source": [
    "!pip install selenium"
   ]
  },
  {
   "cell_type": "markdown",
   "metadata": {},
   "source": [
    "### Testing the import from some website (why not beautiful soup)"
   ]
  },
  {
   "cell_type": "code",
   "execution_count": 17,
   "metadata": {},
   "outputs": [
    {
     "name": "stdout",
     "output_type": "stream",
     "text": [
      "The code of the page  200\n"
     ]
    }
   ],
   "source": [
    "import requests\n",
    "url = \"https://pypi.org/project/beautifulsoup4/\"\n",
    "response = requests.get(url)\n",
    "print(\"The code of the page \",   response.status_code)"
   ]
  },
  {
   "cell_type": "markdown",
   "metadata": {},
   "source": [
    "### Testing on another website\n"
   ]
  },
  {
   "cell_type": "code",
   "execution_count": 19,
   "metadata": {},
   "outputs": [
    {
     "name": "stdout",
     "output_type": "stream",
     "text": [
      "The code of the page  200\n"
     ]
    }
   ],
   "source": [
    "import requests\n",
    "url = \"https://www.hikiotonga.com/\"\n",
    "response = requests.get(url)\n",
    "print(\"The code of the page \",   response.status_code)"
   ]
  },
  {
   "cell_type": "markdown",
   "metadata": {},
   "source": [
    "We can have a look at the content of the object that was received from the webpage\n"
   ]
  },
  {
   "cell_type": "code",
   "execution_count": 20,
   "metadata": {},
   "outputs": [
    {
     "data": {
      "text/plain": [
       "['__attrs__',\n",
       " '__bool__',\n",
       " '__class__',\n",
       " '__delattr__',\n",
       " '__dict__',\n",
       " '__dir__',\n",
       " '__doc__',\n",
       " '__enter__',\n",
       " '__eq__',\n",
       " '__exit__',\n",
       " '__format__',\n",
       " '__ge__',\n",
       " '__getattribute__',\n",
       " '__getstate__',\n",
       " '__gt__',\n",
       " '__hash__',\n",
       " '__init__',\n",
       " '__init_subclass__',\n",
       " '__iter__',\n",
       " '__le__',\n",
       " '__lt__',\n",
       " '__module__',\n",
       " '__ne__',\n",
       " '__new__',\n",
       " '__nonzero__',\n",
       " '__reduce__',\n",
       " '__reduce_ex__',\n",
       " '__repr__',\n",
       " '__setattr__',\n",
       " '__setstate__',\n",
       " '__sizeof__',\n",
       " '__str__',\n",
       " '__subclasshook__',\n",
       " '__weakref__',\n",
       " '_content',\n",
       " '_content_consumed',\n",
       " '_next',\n",
       " 'apparent_encoding',\n",
       " 'close',\n",
       " 'connection',\n",
       " 'content',\n",
       " 'cookies',\n",
       " 'elapsed',\n",
       " 'encoding',\n",
       " 'headers',\n",
       " 'history',\n",
       " 'is_permanent_redirect',\n",
       " 'is_redirect',\n",
       " 'iter_content',\n",
       " 'iter_lines',\n",
       " 'json',\n",
       " 'links',\n",
       " 'next',\n",
       " 'ok',\n",
       " 'raise_for_status',\n",
       " 'raw',\n",
       " 'reason',\n",
       " 'request',\n",
       " 'status_code',\n",
       " 'text',\n",
       " 'url']"
      ]
     },
     "execution_count": 20,
     "metadata": {},
     "output_type": "execute_result"
    }
   ],
   "source": [
    "dir(response)"
   ]
  },
  {
   "cell_type": "markdown",
   "metadata": {},
   "source": [
    "## Setting the paths for chromium drivers \n",
    "Be carreful , use need to change the line the path to the chromium path \n",
    "*chromium_path = \"C:\\\\Users\\\\domin\\\\chrome-win\\\\chrome.exe\"*\n",
    "\n",
    "Also you should nbeed to change the path for the chromedriver path \n",
    "chromedriver_path = Service(\"C:\\\\Users\\\\domin\\\\chromedriver_win32\\\\chromedriver.exe\")\n",
    "\n",
    "then test the page on \n",
    "\n",
    "*driver.get(\"https://unstats.un.org/bigdata/\")*\n"
   ]
  },
  {
   "cell_type": "code",
   "execution_count": null,
   "metadata": {},
   "outputs": [],
   "source": [
    "from selenium import webdriver\n",
    "from selenium.webdriver.chrome.options import Options\n",
    "from selenium.webdriver.chrome.service import Service\n",
    "import time\n",
    " \n",
    "opts = Options()\n",
    "chromium_path = \"C:\\\\Users\\\\domin\\\\chrome-win\\\\chrome.exe\"\n",
    "opts.binary_location = chromium_path\n",
    "chromedriver_path = Service(\"C:\\\\Users\\\\domin\\\\chromedriver_win32\\\\chromedriver.exe\")\n",
    "# driver = webdriver.Chrome(executable_path=chromedriver_path, chrome_options=opts)\n",
    "driver = webdriver.Chrome(service=chromedriver_path, options=opts)\n",
    "driver.get(\"https://unstats.un.org/bigdata/\")\n",
    "has context menu"
   ]
  },
  {
   "cell_type": "code",
   "execution_count": null,
   "metadata": {},
   "outputs": [],
   "source": []
  },
  {
   "cell_type": "code",
   "execution_count": null,
   "metadata": {},
   "outputs": [],
   "source": []
  }
 ],
 "metadata": {
  "kernelspec": {
   "display_name": "Python 3",
   "language": "python",
   "name": "python3"
  },
  "language_info": {
   "codemirror_mode": {
    "name": "ipython",
    "version": 3
   },
   "file_extension": ".py",
   "mimetype": "text/x-python",
   "name": "python",
   "nbconvert_exporter": "python",
   "pygments_lexer": "ipython3",
   "version": "3.11.9"
  }
 },
 "nbformat": 4,
 "nbformat_minor": 2
}
